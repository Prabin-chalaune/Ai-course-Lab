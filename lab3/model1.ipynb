{
 "cells": [
  {
   "cell_type": "code",
   "execution_count": null,
   "metadata": {},
   "outputs": [],
   "source": [
    "import numpy as np\n",
    "import matplotlib.pyplot as plt\n",
    "import pandas as pd\n",
    "import sklearn as sklearn\n",
    "import seaborn as sns   \n",
    "import pickle\n",
    "\n",
    "\n"
   ]
  },
  {
   "cell_type": "code",
   "execution_count": null,
   "metadata": {},
   "outputs": [],
   "source": [
    "#load the data\n",
    "from sklearn.datasets import load_iris \n",
    "data = load_iris()\n",
    "type(data)"
   ]
  },
  {
   "cell_type": "code",
   "execution_count": null,
   "metadata": {},
   "outputs": [],
   "source": [
    "X=data.data\n",
    "y=data.target\n",
    "x_names=data.feature_names \n",
    "y_names=data.target_names\n",
    "description= data.DESC"
   ]
  },
  {
   "cell_type": "code",
   "execution_count": null,
   "metadata": {},
   "outputs": [],
   "source": [
    "# x[:10]  IT load 10 1st data\n",
    "X_df= pd.DataFrame(X,columns=['Sepal Lenght','Sepal Width','Petal Length','Petal Width'])\n",
    "y_df=pd.DataFrame(y,['species'])"
   ]
  },
  {
   "cell_type": "code",
   "execution_count": null,
   "metadata": {},
   "outputs": [],
   "source": [
    "X_df.describe()"
   ]
  },
  {
   "cell_type": "code",
   "execution_count": null,
   "metadata": {},
   "outputs": [],
   "source": [
    "#analyze numerical aattributes\n",
    "numerical_attributes= x_df.select_dtypes(include=['float'])\n",
    "print(numerical_attributes.columns);"
   ]
  },
  {
   "cell_type": "code",
   "execution_count": null,
   "metadata": {},
   "outputs": [],
   "source": [
    "#plot a histogram\n",
    "numerical_attributes.hist(figsize=(10,10))\n",
    "plt.savefig('numerical_attributes.png')"
   ]
  },
  {
   "cell_type": "code",
   "execution_count": null,
   "metadata": {},
   "outputs": [],
   "source": [
    "frames=[X_df,y_df]\n",
    "result=pd.concat(frames)\n",
    "result.info()"
   ]
  },
  {
   "cell_type": "code",
   "execution_count": null,
   "metadata": {},
   "outputs": [],
   "source": [
    "#pairplot\n",
    "sns.pairplot(data=result,hue=\"Species\",height=3)\n",
    "plt.savefig(\"pairplot.png\")\n"
   ]
  },
  {
   "cell_type": "code",
   "execution_count": null,
   "metadata": {},
   "outputs": [],
   "source": [
    "f,ax=plt.subplots(figsize=(7,4))\n",
    "sns.heatmap=(result.corr(),annot = True,linewidth=5,fmt='.1f',ax=ax)\n",
    "plt.savefig('correlation.png')"
   ]
  },
  {
   "cell_type": "code",
   "execution_count": null,
   "metadata": {},
   "outputs": [],
   "source": [
    "X.shape,y.shape"
   ]
  },
  {
   "cell_type": "code",
   "execution_count": null,
   "metadata": {},
   "outputs": [],
   "source": [
    "from sklearn.model_selection import train_test_split\n",
    "from sklearn.preprocessing import StandardScaler\n",
    "from sklearn.metrics import accuracy_score,precision_score,recall_score,f1_score\n",
    "from sklearn.metrics import confusion_matrix,ConfusionMatrixDisplay\n",
    "from sklearn.metrics import classification_report\n",
    "from sklearn.tree import DecisionTreeClassifier\n",
    "from sklearn.svm import SVC \n",
    "from sklearn.naive_bayes import GaussianNB\n",
    "from sklearn.neural_network import MLPClassifier"
   ]
  },
  {
   "cell_type": "code",
   "execution_count": null,
   "metadata": {},
   "outputs": [],
   "source": [
    "X_train,X_test,y_train,y_test=train_test_split(X,y,test_size=0.2, random_state=42)\n",
    "print(f'Shape of X_train is:{X_train.shape}')\n",
    "print(f'Shape of X_test is:{X_test.shape}')\n",
    "print(f'Shape of y_train is:{y_train.shape}')\n",
    "print(f'Shape of y_test is:{y_test.shape}')\n"
   ]
  },
  {
   "cell_type": "code",
   "execution_count": null,
   "metadata": {},
   "outputs": [],
   "source": [
    "# scaler=StandardScaler()\n",
    "# scaler.fit_transform(X_train)\n",
    "# scaler.transform()"
   ]
  },
  {
   "cell_type": "code",
   "execution_count": null,
   "metadata": {},
   "outputs": [],
   "source": [
    "#Decision Tree\n",
    "cart= DecisionTreeClassifier()\n",
    "cart.fit(X_train,y_train)\n",
    "y_preds=cart.predict(X_test)\n",
    "print(classification_report(y_test,y_train))"
   ]
  },
  {
   "cell_type": "code",
   "execution_count": null,
   "metadata": {},
   "outputs": [],
   "source": [
    "cm=confusion_matrix(y_test,y_train)\n",
    "cm_plot= ConfusionMatrixDisplay(cm)\n",
    "cm_plot.plot()\n",
    "plt.savefig('confusion-matrix-cart.png')\n"
   ]
  },
  {
   "cell_type": "code",
   "execution_count": null,
   "metadata": {},
   "outputs": [],
   "source": [
    "#Decision Tree\n",
    "gnb=GaussianNB()\n",
    "gnb.fit(X_train,y_train)\n",
    "y_preds=gnb.predict(X_test)\n",
    "print(classification_report(y_test,y_train))"
   ]
  },
  {
   "cell_type": "code",
   "execution_count": null,
   "metadata": {},
   "outputs": [],
   "source": [
    "\n",
    "#key\n",
    "for k in range(1,11):\n",
    "    knn=KNeighborsClassifier(n_neighbors=k)\n",
    "    knn.fit(X_train,y_train)\n",
    "    y_preds=knn.predict(X_test)\n",
    "    acc = accracy_score(y_test,y_preds)\n",
    "    aList.append(acc)\n",
    "  \n",
    "    "
   ]
  },
  {
   "cell_type": "code",
   "execution_count": null,
   "metadata": {},
   "outputs": [],
   "source": [
    "plt.plot(range(1,11),aList);\n",
    "plt.tittle(\"k VS Accuracy\");\n",
    "plt.xlabel(\"k\");\n",
    "plt.ylabel(\"Accuracy\");"
   ]
  },
  {
   "cell_type": "code",
   "execution_count": null,
   "metadata": {},
   "outputs": [],
   "source": [
    "#SVM\n",
    "svm=SVC()\n",
    "svm.fit(X_train,y_train)\n",
    "y_preds=svm.predict(X_test)\n",
    "print(classification_report(y_test,y_train))\n"
   ]
  },
  {
   "cell_type": "code",
   "execution_count": null,
   "metadata": {},
   "outputs": [],
   "source": [
    "#MlP\n",
    "mlp=MLPClassifier(\n",
    "    hidden_layer_sizes=(150,100,150),\n",
    "    max_iter=300,\n",
    "    activation='relu',\n",
    "    solver='adam',\n",
    "    random_state=42,\n",
    "    alpha=0.01,\n",
    ")\n",
    "\n",
    "#NaiveBayes\n",
    "mlp.fit(X_train,y_test)\n",
    "y_preds= mlp.predict(X_test)\n",
    "print(classification_report(y_test,y_train))\n",
    "\n",
    "#uci machine laerning repository\n",
    "#sklearn real worls datasets from docs\n",
    "#random forest\n",
    "#best performance model GUI tkinter real world project\n",
    "\n"
   ]
  },
  {
   "cell_type": "code",
   "execution_count": null,
   "metadata": {},
   "outputs": [],
   "source": []
  },
  {
   "cell_type": "code",
   "execution_count": null,
   "metadata": {},
   "outputs": [],
   "source": []
  }
 ],
 "metadata": {
  "language_info": {
   "name": "python"
  }
 },
 "nbformat": 4,
 "nbformat_minor": 2
}
