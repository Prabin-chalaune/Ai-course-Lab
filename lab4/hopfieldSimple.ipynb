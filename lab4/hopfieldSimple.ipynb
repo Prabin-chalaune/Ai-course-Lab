{
 "cells": [
  {
   "cell_type": "code",
   "execution_count": 1,
   "metadata": {},
   "outputs": [],
   "source": [
    "import numpy as np\n",
    "\n",
    "class HopfieldNetwork:\n",
    "    def __init__(self, size):\n",
    "        self.size = size\n",
    "        self.weights = np.zeros((size, size))\n",
    "\n",
    "    def train(self, data):\n",
    "        for pattern in data:\n",
    "            self.weights += np.outer(pattern, pattern)\n",
    "        np.fill_diagonal(self.weights, 0)\n",
    "\n",
    "    def predict(self, pattern):\n",
    "        result = np.copy(pattern)\n",
    "        for _ in range(100):  \n",
    "            for i in range(self.size):\n",
    "                result[i] = 1 if np.dot(self.weights[i], result) > 0 else -1\n",
    "        return result"
   ]
  },
  {
   "cell_type": "code",
   "execution_count": 2,
   "metadata": {},
   "outputs": [],
   "source": [
    "def generate_pattern(size, num_patterns):\n",
    "    return np.random.choice([-1, 1], (num_patterns, size))"
   ]
  },
  {
   "cell_type": "code",
   "execution_count": 3,
   "metadata": {},
   "outputs": [],
   "source": [
    "def add_noise(pattern, noise_level):\n",
    "    noise = np.random.choice([1, -1], pattern.shape, p=[1-noise_level, noise_level])\n",
    "    return pattern * noise"
   ]
  },
  {
   "cell_type": "code",
   "execution_count": 4,
   "metadata": {},
   "outputs": [],
   "source": [
    "size = 10 \n",
    "num_patterns = 2 \n",
    "noise_level = 0.2"
   ]
  },
  {
   "cell_type": "code",
   "execution_count": 5,
   "metadata": {},
   "outputs": [],
   "source": [
    "patterns = generate_pattern(size, num_patterns)"
   ]
  },
  {
   "cell_type": "code",
   "execution_count": 6,
   "metadata": {},
   "outputs": [],
   "source": [
    "hopfield_net = HopfieldNetwork(size)\n",
    "hopfield_net.train(patterns)"
   ]
  },
  {
   "cell_type": "code",
   "execution_count": 7,
   "metadata": {},
   "outputs": [
    {
     "name": "stdout",
     "output_type": "stream",
     "text": [
      "Original pattern:   [-1  1 -1  1  1  1 -1  1  1 -1]\n",
      "Noisy pattern:      [ 1 -1 -1  1  1  1 -1  1 -1 -1]\n",
      "Recovered pattern:  [-1  1 -1  1  1  1 -1  1  1 -1]\n"
     ]
    }
   ],
   "source": [
    "test_pattern = add_noise(patterns[0], noise_level)\n",
    "recovered_pattern = hopfield_net.predict(test_pattern)\n",
    "\n",
    "print(\"Original pattern:  \", patterns[0])\n",
    "print(\"Noisy pattern:     \", test_pattern)\n",
    "print(\"Recovered pattern: \", recovered_pattern)"
   ]
  },
  {
   "cell_type": "code",
   "execution_count": null,
   "metadata": {},
   "outputs": [],
   "source": []
  }
 ],
 "metadata": {
  "kernelspec": {
   "display_name": "ML",
   "language": "python",
   "name": "python3"
  },
  "language_info": {
   "codemirror_mode": {
    "name": "ipython",
    "version": 3
   },
   "file_extension": ".py",
   "mimetype": "text/x-python",
   "name": "python",
   "nbconvert_exporter": "python",
   "pygments_lexer": "ipython3",
   "version": "3.10.13"
  }
 },
 "nbformat": 4,
 "nbformat_minor": 2
}
