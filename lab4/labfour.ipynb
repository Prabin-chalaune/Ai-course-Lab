{
 "cells": [
  {
   "cell_type": "code",
   "execution_count": 48,
   "metadata": {},
   "outputs": [
    {
     "name": "stdout",
     "output_type": "stream",
     "text": [
      "2.2.0+cpu\n"
     ]
    }
   ],
   "source": [
    "#pytorch\n",
    "import torch    \n",
    "from torch import nn   \n",
    "import matplotlib.pyplot as plt    \n",
    "import numpy as np\n",
    "\n",
    "print(torch.__version__)\n",
    "\n"
   ]
  },
  {
   "cell_type": "code",
   "execution_count": 49,
   "metadata": {},
   "outputs": [
    {
     "name": "stdout",
     "output_type": "stream",
     "text": [
      "2.2.0+cpu\n"
     ]
    }
   ],
   "source": [
    "print(torch.__version__)"
   ]
  },
  {
   "cell_type": "code",
   "execution_count": 50,
   "metadata": {},
   "outputs": [
    {
     "data": {
      "text/plain": [
       "(tensor([[0]]), tensor([[0.3000]]))"
      ]
     },
     "execution_count": 50,
     "metadata": {},
     "output_type": "execute_result"
    }
   ],
   "source": [
    "#Create weight and bias\n",
    "m=0.7\n",
    "c=0.3\n",
    "\n",
    "start=0\n",
    "end =1\n",
    "step=0.02\n",
    "\n",
    "# X=torch.arrange(start,end,step).unsqueeze(dim=1)\n",
    "X = torch.arange(start,end,end).unsqueeze(dim=1)\n",
    "y=m*X +c\n",
    "X[:10],y[:10]"
   ]
  },
  {
   "cell_type": "code",
   "execution_count": 51,
   "metadata": {},
   "outputs": [
    {
     "data": {
      "text/plain": [
       "(0, 0, 1, 1)"
      ]
     },
     "execution_count": 51,
     "metadata": {},
     "output_type": "execute_result"
    }
   ],
   "source": [
    "#split data\n",
    "train_split =int(0.8*len(X))\n",
    "X_train,y_train = X[:train_split],y[:train_split]\n",
    "X_test,y_test =X[train_split:],y[train_split:]\n",
    "\n",
    "len(X_train),len(y_train),len(X_test),len(y_test)"
   ]
  },
  {
   "cell_type": "code",
   "execution_count": null,
   "metadata": {},
   "outputs": [],
   "source": []
  },
  {
   "cell_type": "code",
   "execution_count": 52,
   "metadata": {},
   "outputs": [],
   "source": [
    "def plot_data(training_X=X_train,training_y =y_train,testing_X=X_test,testing_y=y_test,prediction=None):\n",
    "    plt.figure(figsize=(10,7))\n",
    "    #plot trainign data\n",
    "    plt.scatter(training_X,training_y,c='b',s=4,label=\"Training Data\")\n",
    "    # testingdata\n",
    "    plt.scatter(training_X,training_y,c='g',s=4,label=\"Testing Data\")\n",
    "    if prediction is not None:\n",
    "        plt.scatter(testing_X,prediction,c=\"r\",s=4,label=\"Prediction Data\")\n",
    "        \n",
    "    plt.legend(prop={\"size\":12});\n"
   ]
  },
  {
   "cell_type": "code",
   "execution_count": 53,
   "metadata": {},
   "outputs": [],
   "source": [
    "class LinearRegressionMode(nn.Module):\n",
    "    def __init__(self):\n",
    "        super().__init__()\n",
    "        self.weights=nn.Parameter(torch.randn(1,dtype=torch.float,requires_grad=True))\n",
    "        self.bias=nn.Parameter(torch.randn(1,dtype=torch.float,requires_grad=True))\n",
    "        \n",
    "    def forward(self,x:torch.Tensor)->torch.Tensor:\n",
    "        return self.weights+x*self.bias\n",
    "        "
   ]
  },
  {
   "cell_type": "code",
   "execution_count": 54,
   "metadata": {},
   "outputs": [
    {
     "data": {
      "text/plain": [
       "[Parameter containing:\n",
       " tensor([0.3367], requires_grad=True),\n",
       " Parameter containing:\n",
       " tensor([0.1288], requires_grad=True)]"
      ]
     },
     "execution_count": 54,
     "metadata": {},
     "output_type": "execute_result"
    }
   ],
   "source": [
    "torch.manual_seed(42)\n",
    "model_0 = LinearRegressionMode()\n",
    "list(model_0.parameters())"
   ]
  },
  {
   "cell_type": "code",
   "execution_count": 55,
   "metadata": {},
   "outputs": [],
   "source": [
    "#let us make prediction\n",
    "\n",
    "with torch.inference_mode():\n",
    "    y_preds = model_0(X_test)\n",
    "    "
   ]
  },
  {
   "cell_type": "code",
   "execution_count": 56,
   "metadata": {},
   "outputs": [
    {
     "data": {
      "image/png": "[encoded data removed]",
      "text/plain": [
       "<Figure size 1000x700 with 1 Axes>"
      ]
     },
     "metadata": {},
     "output_type": "display_data"
    }
   ],
   "source": [
    "plot_data(prediction=y_preds)"
   ]
  },
  {
   "cell_type": "code",
   "execution_count": 65,
   "metadata": {},
   "outputs": [],
   "source": [
    "#Setup loss function\n",
    "loss_fn =nn.MSELoss()\n",
    "optimizer = torch.optim.SGD(params=model_0.parameters())"
   ]
  },
  {
   "cell_type": "code",
   "execution_count": 68,
   "metadata": {},
   "outputs": [
    {
     "name": "stdout",
     "output_type": "stream",
     "text": [
      "Epoch:0| Train loss:nan | test Loss:nan\n",
      "Epoch:100| Train loss:nan | test Loss:nan\n",
      "Epoch:200| Train loss:nan | test Loss:nan\n",
      "Epoch:300| Train loss:nan | test Loss:nan\n"
     ]
    },
    {
     "name": "stderr",
     "output_type": "stream",
     "text": [
      "C:\\Users\\Acer\\AppData\\Roaming\\Python\\Python39\\site-packages\\torch\\nn\\modules\\loss.py:535: UserWarning: Using a target size (torch.Size([0, 1])) that is different to the input size (torch.Size([1, 1])). This will likely lead to incorrect results due to broadcasting. Please ensure they have the same size.\n",
      "  return F.mse_loss(input, target, reduction=self.reduction)\n"
     ]
    },
    {
     "name": "stdout",
     "output_type": "stream",
     "text": [
      "Epoch:400| Train loss:nan | test Loss:nan\n"
     ]
    }
   ],
   "source": [
    "torch.manual_seed(42)\n",
    "\n",
    "epochs=500\n",
    "\n",
    "\n",
    "trainLossList=[]\n",
    "testLossList =[]\n",
    "\n",
    "for epoch in range(epochs):\n",
    "    ###training\n",
    "    model_0.train()\n",
    "    \n",
    "    #forward pass\n",
    "    y_preds = model_0(X_train)\n",
    "    \n",
    "    #calculate loass\n",
    "    loss=  loss_fn(y_train,y_preds)\n",
    "    \n",
    "    optimizer.zero_grad()\n",
    "        \n",
    "    loss.backward()\n",
    "        \n",
    "    optimizer.step()\n",
    "   \n",
    "   ##testing\n",
    "    with torch.inference_mode():\n",
    "       test_preds=model_0(X_test)\n",
    "       test_loss = loss_fn(y_test,y_preds)\n",
    "    \n",
    "    if  epoch%100 == 0:\n",
    "        print(f'Epoch:{epoch}| Train loss:{loss} | test Loss:{test_loss}')\n",
    "        \n",
    "    trainLossList.append(loss.detach().numpy())\n",
    "    testLossList.append(test_loss.detach().numpy())"
   ]
  },
  {
   "cell_type": "code",
   "execution_count": null,
   "metadata": {},
   "outputs": [],
   "source": [
    "plt.plot(range(epochs),trainLossList,label=\"Training Loss\")\n",
    "plt.plot(range(epochs),testLossList,label=\"Testing Loss\")\n",
    "plt.xlabel\n",
    "plt.ylabel"
   ]
  },
  {
   "cell_type": "code",
   "execution_count": null,
   "metadata": {},
   "outputs": [],
   "source": [
    "from pathlib import Path()\n",
    "#create model directory\n",
    "\n",
    "MODEL_PATH =Path(\"models\")\n",
    "MODEL_PATH.mkdir(parents =True,exist_ok =True)\n",
    "\n",
    "#create model save path\n",
    "\n",
    "MODEL_NAME =\"00_pytorch_linear_regresion_0.pth\"\n",
    "MODEL_SAVE_PATH =MODEL_PATH/MODEL_NAME\n",
    "\n",
    "print(f())"
   ]
  },
  {
   "cell_type": "code",
   "execution_count": null,
   "metadata": {},
   "outputs": [],
   "source": []
  }
 ],
 "metadata": {
  "kernelspec": {
   "display_name": "Python 3",
   "language": "python",
   "name": "python3"
  },
  "language_info": {
   "codemirror_mode": {
    "name": "ipython",
    "version": 3
   },
   "file_extension": ".py",
   "mimetype": "text/x-python",
   "name": "python",
   "nbconvert_exporter": "python",
   "pygments_lexer": "ipython3",
   "version": "3.9.5"
  }
 },
 "nbformat": 4,
 "nbformat_minor": 2
}
