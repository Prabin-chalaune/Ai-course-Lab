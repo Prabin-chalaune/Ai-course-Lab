{
 "cells": [
  {
   "cell_type": "code",
   "execution_count": 1,
   "metadata": {},
   "outputs": [],
   "source": [
    "import matplotlib.pyplot as plt \n",
    "import numpy as np "
   ]
  },
  {
   "cell_type": "code",
   "execution_count": 2,
   "metadata": {},
   "outputs": [],
   "source": [
    "X = np.array([[0, 0],\n",
    "              [0, 1],\n",
    "              [1, 0],\n",
    "              [1, 1]])\n",
    "y = np.array([[0],[1], [1], [0]])"
   ]
  },
  {
   "cell_type": "code",
   "execution_count": 3,
   "metadata": {},
   "outputs": [],
   "source": [
    "input_layer_size, hidden_layer_size, output_layer_size = 2, 2, 1\n",
    "theta_input_hidden = np.random.uniform(size=(input_layer_size, hidden_layer_size))\n",
    "bias_hidden = np.random.uniform(size=(1, hidden_layer_size))\n",
    "theta_hidden_output = np.random.uniform(size=(hidden_layer_size, output_layer_size))\n",
    "bias_output = np.random.uniform(size=(1, output_layer_size))"
   ]
  },
  {
   "cell_type": "code",
   "execution_count": 4,
   "metadata": {},
   "outputs": [
    {
     "name": "stdout",
     "output_type": "stream",
     "text": [
      "Shape of hidden layer weights =  (2, 2)\n",
      "Shape of hidden layer bias =  (1, 2)\n",
      "Shape of output layer weights =  (2, 1)\n",
      "Shape of output layer bias =  (1, 1)\n"
     ]
    }
   ],
   "source": [
    "print(\"Shape of hidden layer weights = \", theta_input_hidden.shape)\n",
    "print(\"Shape of hidden layer bias = \", bias_hidden.shape)\n",
    "print(\"Shape of output layer weights = \", theta_hidden_output.shape)\n",
    "print(\"Shape of output layer bias = \", bias_output.shape)"
   ]
  },
  {
   "cell_type": "code",
   "execution_count": 5,
   "metadata": {},
   "outputs": [],
   "source": [
    "def sigmoid (x):\n",
    "    return 1/(1 + np.exp(-x))\n"
   ]
  },
  {
   "cell_type": "code",
   "execution_count": 6,
   "metadata": {},
   "outputs": [],
   "source": [
    "def sigmoid_derivative(x):\n",
    "    return x * (1 - x)"
   ]
  },
  {
   "cell_type": "code",
   "execution_count": 7,
   "metadata": {},
   "outputs": [],
   "source": [
    "epochs = 10000\n",
    "lr = 0.1\n",
    "\n",
    "#Training algorithm\n",
    "for epoch in range(epochs):\n",
    "\t#Forward Propagation\n",
    "\thidden_layer_activation = np.dot(X,theta_input_hidden)\n",
    "\thidden_layer_activation += bias_hidden\n",
    "\thidden_layer_output = sigmoid(hidden_layer_activation)\n",
    "\n",
    "\toutput_layer_activation = np.dot(hidden_layer_output,theta_hidden_output)\n",
    "\toutput_layer_activation += bias_output\n",
    "\tpredicted_output = sigmoid(output_layer_activation)\n",
    "\n",
    "\t#Backpropagation\n",
    "\terror = y - predicted_output\n",
    "\td_predicted_output = error * sigmoid_derivative(predicted_output)\n",
    "\t\n",
    "\terror_hidden_layer = d_predicted_output.dot(theta_hidden_output.T)\n",
    "\td_hidden_layer = error_hidden_layer * sigmoid_derivative(hidden_layer_output)\n",
    "\n",
    "\t#Updating Weights and Biases\n",
    "\ttheta_hidden_output += hidden_layer_output.T.dot(d_predicted_output) * lr\n",
    "\tbias_output += np.sum(d_predicted_output,axis=0,keepdims=True) * lr\n",
    "\ttheta_input_hidden += X.T.dot(d_hidden_layer) * lr\n",
    "\tbias_hidden += np.sum(d_hidden_layer,axis=0,keepdims=True) * lr"
   ]
  },
  {
   "cell_type": "code",
   "execution_count": 8,
   "metadata": {},
   "outputs": [],
   "source": [
    "def predict(X):\n",
    "    hidden_layer_activation = np.dot(X,theta_input_hidden)\n",
    "    hidden_layer_activation += bias_hidden\n",
    "    hidden_layer_output = sigmoid(hidden_layer_activation)\n",
    "    \n",
    "    output_layer_activation = np.dot(hidden_layer_output,theta_hidden_output)\n",
    "    output_layer_activation += bias_output\n",
    "    predicted_output = sigmoid(output_layer_activation)\n",
    "    return predicted_output"
   ]
  },
  {
   "cell_type": "code",
   "execution_count": 9,
   "metadata": {},
   "outputs": [],
   "source": [
    "X = np.array([[0, 0],\n",
    "              [0, 1],\n",
    "              [1, 0],\n",
    "              [1, 1]])"
   ]
  },
  {
   "cell_type": "code",
   "execution_count": 10,
   "metadata": {},
   "outputs": [
    {
     "data": {
      "text/plain": [
       "array([[0.06515656],\n",
       "       [0.93873753],\n",
       "       [0.93848185],\n",
       "       [0.06727446]])"
      ]
     },
     "execution_count": 10,
     "metadata": {},
     "output_type": "execute_result"
    }
   ],
   "source": [
    "predict(X)"
   ]
  },
  {
   "cell_type": "code",
   "execution_count": null,
   "metadata": {},
   "outputs": [],
   "source": []
  }
 ],
 "metadata": {
  "kernelspec": {
   "display_name": "ML",
   "language": "python",
   "name": "python3"
  },
  "language_info": {
   "codemirror_mode": {
    "name": "ipython",
    "version": 3
   },
   "file_extension": ".py",
   "mimetype": "text/x-python",
   "name": "python",
   "nbconvert_exporter": "python",
   "pygments_lexer": "ipython3",
   "version": "3.10.6"
  },
  "orig_nbformat": 4
 },
 "nbformat": 4,
 "nbformat_minor": 2
}
