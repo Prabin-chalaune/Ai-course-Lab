{
 "cells": [
  {
   "cell_type": "code",
   "execution_count": 1,
   "metadata": {},
   "outputs": [],
   "source": [
    "import numpy as np\n",
    "from numpy.ma.core import ceil\n",
    "from scipy.spatial import distance\n",
    "from sklearn.preprocessing import StandardScaler\n",
    "from sklearn.model_selection import train_test_split\n",
    "from sklearn.metrics import accuracy_score\n",
    "from sklearn.metrics import confusion_matrix\n",
    "import matplotlib.pyplot as plt\n",
    "from matplotlib import animation, colors\n",
    "from matplotlib.colors import ListedColormap"
   ]
  },
  {
   "cell_type": "code",
   "execution_count": 2,
   "metadata": {},
   "outputs": [],
   "source": [
    "from sklearn.datasets import load_iris"
   ]
  },
  {
   "cell_type": "code",
   "execution_count": 3,
   "metadata": {},
   "outputs": [],
   "source": [
    "X, y = load_iris(return_X_y=True)"
   ]
  },
  {
   "cell_type": "code",
   "execution_count": 4,
   "metadata": {},
   "outputs": [
    {
     "name": "stdout",
     "output_type": "stream",
     "text": [
      "(120, 4) (120,) (30, 4) (30,)\n"
     ]
    }
   ],
   "source": [
    "X_train, X_test, y_train, y_test = train_test_split(X, y, test_size=0.2, random_state=42)\n",
    "print(X_train.shape, y_train.shape, X_test.shape, y_test.shape)"
   ]
  },
  {
   "cell_type": "code",
   "execution_count": 5,
   "metadata": {},
   "outputs": [],
   "source": [
    "def e_distance(x,y):\n",
    "  return distance.euclidean(x,y)"
   ]
  },
  {
   "cell_type": "code",
   "execution_count": 6,
   "metadata": {},
   "outputs": [],
   "source": [
    "def m_distance(x,y):\n",
    "  return distance.cityblock(x,y)"
   ]
  },
  {
   "cell_type": "code",
   "execution_count": 7,
   "metadata": {},
   "outputs": [],
   "source": [
    "def winning_neuron(data, t, som, num_rows, num_cols):\n",
    "  winner = [0,0]\n",
    "  shortest_distance = np.sqrt(data.shape[1]) # initialise with max distance\n",
    "  input_data = data[t]\n",
    "  for row in range(num_rows):\n",
    "    for col in range(num_cols):\n",
    "      distance = e_distance(som[row][col], data[t])\n",
    "      if distance < shortest_distance: \n",
    "        shortest_distance = distance\n",
    "        winner = [row,col]\n",
    "  return winner"
   ]
  },
  {
   "cell_type": "code",
   "execution_count": 8,
   "metadata": {},
   "outputs": [],
   "source": [
    "def decay(step, max_steps,max_learning_rate,max_m_distance):\n",
    "  coefficient = 1.0 - (np.float64(step)/max_steps)\n",
    "  learning_rate = coefficient*max_learning_rate\n",
    "  neighbourhood_range = ceil(coefficient * max_m_distance)\n",
    "  return learning_rate, neighbourhood_range"
   ]
  },
  {
   "cell_type": "code",
   "execution_count": 9,
   "metadata": {},
   "outputs": [],
   "source": [
    "# hyperparameters\n",
    "# We could use the [5 * sqrt(number of training samples)] formula\n",
    "num_rows = 8\n",
    "num_cols = 8\n",
    "# The initial value for the maximum neighbourhood range and learning rate can be set\n",
    "# with a large number. If the rates are too small, it may result in overfitting and\n",
    "# requiring more training steps for the learning.\n",
    "max_m_distance = 4\n",
    "max_learning_rate = 0.5\n",
    "# The number of training steps may require at least (500 * n rows * m columns) to converge. \n",
    "max_steps = int(3.2*10e3)"
   ]
  },
  {
   "cell_type": "code",
   "execution_count": 10,
   "metadata": {},
   "outputs": [
    {
     "name": "stdout",
     "output_type": "stream",
     "text": [
      "Iteration:  1000\n",
      "Iteration:  2000\n",
      "Iteration:  3000\n",
      "Iteration:  4000\n",
      "Iteration:  5000\n",
      "Iteration:  6000\n",
      "Iteration:  7000\n",
      "Iteration:  8000\n",
      "Iteration:  9000\n",
      "Iteration:  10000\n",
      "Iteration:  11000\n",
      "Iteration:  12000\n",
      "Iteration:  13000\n",
      "Iteration:  14000\n",
      "Iteration:  15000\n",
      "Iteration:  16000\n",
      "Iteration:  17000\n",
      "Iteration:  18000\n",
      "Iteration:  19000\n",
      "Iteration:  20000\n",
      "Iteration:  21000\n",
      "Iteration:  22000\n",
      "Iteration:  23000\n",
      "Iteration:  24000\n",
      "Iteration:  25000\n",
      "Iteration:  26000\n",
      "Iteration:  27000\n",
      "Iteration:  28000\n",
      "Iteration:  29000\n",
      "Iteration:  30000\n",
      "Iteration:  31000\n",
      "Iteration:  32000\n",
      "SOM training completed\n"
     ]
    }
   ],
   "source": [
    "scaler = StandardScaler()\n",
    "X_train_norm = scaler.fit_transform(X_train) # normalisation\n",
    "\n",
    "# initialising self-organising map\n",
    "num_dims = X_train_norm.shape[1] # numnber of dimensions in the input data\n",
    "np.random.seed(40)\n",
    "som = np.random.random_sample(size=(num_rows, num_cols, num_dims)) # map construction\n",
    "\n",
    "# start training iterations\n",
    "for step in range(max_steps):\n",
    "  if (step+1) % 1000 == 0:\n",
    "    print(\"Iteration: \", step+1) # print out the current iteration for every 1k\n",
    "  learning_rate, neighbourhood_range = decay(step, max_steps,max_learning_rate,max_m_distance)\n",
    "\n",
    "  t = np.random.randint(0,X_train_norm.shape[0]) # random index of traing data\n",
    "  winner = winning_neuron(X_train_norm, t, som, num_rows, num_cols)\n",
    "  for row in range(num_rows):\n",
    "    for col in range(num_cols):\n",
    "      if m_distance([row,col],winner) <= neighbourhood_range:\n",
    "        som[row][col] += learning_rate*(X_train_norm[t]-som[row][col]) #update neighbour's weight\n",
    "\n",
    "print(\"SOM training completed\")"
   ]
  },
  {
   "cell_type": "code",
   "execution_count": 11,
   "metadata": {},
   "outputs": [],
   "source": [
    "# collecting labels\n",
    "label_data = y_train\n",
    "mapp = np.empty(shape=(num_rows, num_cols), dtype=object)\n",
    "\n",
    "for row in range(num_rows):\n",
    "    for col in range(num_cols):\n",
    "        mapp[row][col] = [] # empty list to store the label\n",
    "\n",
    "for t in range(X_train_norm.shape[0]):\n",
    "    if (t+1) % 1000 == 0:\n",
    "        print(\"sample data: \", t+1)\n",
    "    winner = winning_neuron(X_train_norm, t, som, num_rows, num_cols)\n",
    "    mapp[winner[0]][winner[1]].append(label_data[t]) # label of winning neuron"
   ]
  },
  {
   "cell_type": "code",
   "execution_count": 12,
   "metadata": {},
   "outputs": [],
   "source": [
    "# construct label map\n",
    "label_map = np.zeros(shape=(num_rows, num_cols),dtype=np.int64)\n",
    "for row in range(num_rows):\n",
    "  for col in range(num_cols):\n",
    "    label_list = mapp[row][col]\n",
    "    if len(label_list)==0:\n",
    "      label = 3\n",
    "    else:\n",
    "      label = max(label_list, key=label_list.count)\n",
    "    label_map[row][col] = label"
   ]
  },
  {
   "cell_type": "code",
   "execution_count": 13,
   "metadata": {},
   "outputs": [
    {
     "data": {
      "text/plain": [
       "array([[2, 1, 1, 1, 3, 1, 0, 0],\n",
       "       [2, 2, 3, 1, 1, 1, 3, 0],\n",
       "       [2, 1, 3, 1, 1, 3, 0, 0],\n",
       "       [3, 2, 2, 1, 1, 3, 0, 0],\n",
       "       [2, 3, 1, 1, 1, 3, 0, 0],\n",
       "       [2, 1, 1, 2, 2, 1, 0, 0],\n",
       "       [2, 2, 3, 2, 2, 2, 3, 0],\n",
       "       [2, 3, 2, 2, 2, 2, 3, 0]])"
      ]
     },
     "execution_count": 13,
     "metadata": {},
     "output_type": "execute_result"
    }
   ],
   "source": [
    "label_map"
   ]
  },
  {
   "cell_type": "code",
   "execution_count": 14,
   "metadata": {},
   "outputs": [
    {
     "name": "stdout",
     "output_type": "stream",
     "text": [
      "Accuracy:  0.8333333333333334\n"
     ]
    }
   ],
   "source": [
    "# test data\n",
    "\n",
    "# using the trained som, search the winning node of corresponding to the test data\n",
    "# get the label of the winning node\n",
    "\n",
    "data = scaler.transform(X_test) # normalisation\n",
    "\n",
    "winner_labels = []\n",
    "\n",
    "for t in range(data.shape[0]):\n",
    " winner = winning_neuron(data, t, som, num_rows, num_cols)\n",
    " row, col = winner[0], winner[1]\n",
    " predicted = label_map[row][col]\n",
    " winner_labels.append(predicted)\n",
    "\n",
    "print(\"Accuracy: \",accuracy_score(y_test, np.array(winner_labels)))"
   ]
  },
  {
   "cell_type": "code",
   "execution_count": 15,
   "metadata": {},
   "outputs": [
    {
     "data": {
      "image/png": "[encoded data removed]",
      "text/plain": [
       "<Figure size 1000x300 with 2 Axes>"
      ]
     },
     "metadata": {},
     "output_type": "display_data"
    }
   ],
   "source": [
    "# Plot the results\n",
    "fig, ax = plt.subplots(ncols=2, figsize=(10,3))\n",
    "x = X_test[:,0]\n",
    "y = X_test[:,1]\n",
    "colors = ['red', 'green', 'blue', 'yellow']\n",
    "cmapp = ListedColormap(colors)\n",
    "ax[0].scatter(x, y, c=y_test, cmap=cmapp)\n",
    "ax[0].title.set_text('Actual Classes')\n",
    "ax[1].scatter(x, y, c=winner_labels, cmap=cmapp)\n",
    "ax[1].title.set_text('SOM Predictions')"
   ]
  },
  {
   "cell_type": "code",
   "execution_count": null,
   "metadata": {},
   "outputs": [],
   "source": []
  }
 ],
 "metadata": {
  "kernelspec": {
   "display_name": "ML",
   "language": "python",
   "name": "python3"
  },
  "language_info": {
   "codemirror_mode": {
    "name": "ipython",
    "version": 3
   },
   "file_extension": ".py",
   "mimetype": "text/x-python",
   "name": "python",
   "nbconvert_exporter": "python",
   "pygments_lexer": "ipython3",
   "version": "3.10.13"
  }
 },
 "nbformat": 4,
 "nbformat_minor": 2
}
